{
 "cells": [
  {
   "cell_type": "code",
   "execution_count": 1,
   "metadata": {},
   "outputs": [],
   "source": [
    "import torch\n",
    "import numpy as np\n",
    "import matplotlib.pyplot as plt"
   ]
  },
  {
   "cell_type": "code",
   "execution_count": 2,
   "metadata": {},
   "outputs": [],
   "source": [
    "import numpy as np\n",
    "import math\n",
    "f1 = lambda x: 2*torch.sin(x*2*math.pi*5.1)\n",
    "f2 = lambda x: 3*torch.sin(x*2*math.pi*2.1)\n",
    "f3 = lambda x: 5*torch.sin(x*2*math.pi*4.1)\n",
    "\n",
    "f= [f1,f2,f3]\n",
    "\n",
    "\n",
    "nfull,nsub,nsub2=150,25,40\n",
    "#nfull,nsub=100,50\n",
    "nchannel = 3\n",
    "x_lb,x_ub=0,10\n",
    "\n",
    "idx=np.sort(np.random.randint(nfull, size=(nchannel, nsub)),axis=1)\n",
    "idx2=np.sort(np.random.randint(nfull, size=(nchannel, nsub2)),axis=1)\n",
    "\n",
    "x_c = torch.cat([(torch.linspace(x_lb,x_ub,nfull)[idx[j]])[None,:] for j in range(nchannel)],dim=0)\n",
    "x_t = torch.cat([(torch.linspace(x_lb,x_ub,nfull)[idx2[j]])[None,:] for j in range(nchannel)],dim=0)\n",
    "y_c = torch.cat([f[j](x_c[j])[None,:] for j in range(nchannel)],dim=0)\n",
    "y_t = torch.cat([f[j](x_t[j])[None,:] for j in range(nchannel)],dim=0)\n",
    "\n",
    "\n",
    "x_c=x_c.T.unsqueeze(dim=0)\n",
    "y_c=y_c.T.unsqueeze(dim=0)\n",
    "x_t=x_t.T.unsqueeze(dim=0)\n",
    "y_t=y_t.T.unsqueeze(dim=0)\n",
    "\n",
    "nb=3\n",
    "xc=x_c.repeat(nb,1,1)[...,None,:]\n",
    "yc=y_c.repeat(nb,1,1)\n",
    "xt=x_t.repeat(nb,1,1)[...,None,:]\n",
    "yt=y_t.repeat(nb,1,1)"
   ]
  },
  {
   "cell_type": "code",
   "execution_count": 20,
   "metadata": {},
   "outputs": [],
   "source": [
    "# -----------------------------\n",
    "# conv random fourier \n",
    "# -----------------------------    \n",
    "from torch.autograd import Variable\n",
    "import torch.nn as nn\n",
    "import math\n",
    "pi2 = 2*math.pi\n",
    "eps=1e-6\n",
    "\n",
    "\n",
    "def samples_xct(xc,xt,numsamples=1,radius=.2):\n",
    "    #mean = torch.cat([xc,xt],dim=1).unsqueeze(dim=-2)\n",
    "    assert len(xc.size()) == 4 and len(xt.size()) == 4\n",
    "    mean = torch.cat([xc,xt],dim=1)\n",
    "    nb,ndata,ndim,nchannels = mean.size()\n",
    "    mean = mean.reshape(nb,-1,ndim)\n",
    "    std = mean.std(dim=1,keepdim=True)\n",
    "    xct_samples = mean[:,:,None,:] + radius*std[:,None,:,:]*torch.randn_like(std.repeat(1,numsamples,1))[:,None,:,:]\n",
    "    xct_samples = xct_samples.reshape(nb,-1,ndim)\n",
    "    return xct_samples[:,::numsamples,:]\n",
    "\n",
    "\n",
    "\n",
    "# def get_combparams(param_logstd,num_channels=3):\n",
    "#     param_l = param_logstd.exp().detach().clone()\n",
    "#     comb_idx = list(it.product(range(num_channels),repeat=2))\n",
    "#     combparam_l = torch.cat([0.5*(param_l[j_idx[0]][...,None] + param_l[j_idx[1]][...,None]) for j_idx in comb_idx],dim=0)\n",
    "#     return combparam_l,comb_idx\n",
    "\n",
    "class Efficient_GPsampler(nn.Module):    \n",
    "    #def __init__(self,nbasis=10,in_channels=3, nparams = 3, w_mu = None,w_std= None):\n",
    "    def __init__(self,in_dims=1,out_dims=1,num_channels=3, num_fourierbasis = 10,w_mu = None,w_std=None,scales=.01,eps=1e-6):\n",
    "        super(Efficient_GPsampler, self).__init__()\n",
    "        \n",
    "        self.in_dims = in_dims\n",
    "        self.out_dims = out_dims\n",
    "        self.num_channels = num_channels\n",
    "        self.num_fourierbasis = num_fourierbasis\n",
    "        \n",
    "        self.mu = nn.Parameter( torch.log(torch.zeros(in_dims,num_channels)) )              #nparams\n",
    "        self.logstd = nn.Parameter( torch.log(scales*torch.ones(in_dims,num_channels)) )    #nparams                \n",
    "        \n",
    "        self.wa=None\n",
    "        self.wb=None        \n",
    "        return \n",
    "    \n",
    "    \n",
    "    def get_combparams(self):\n",
    "        logstd = self.logstd.permute(1,0)   #(num_channels,in_dims)\n",
    "        param_l = logstd.exp().detach().clone()\n",
    "        comb_idx = list(it.product(range(self.num_channels),repeat=2))\n",
    "        combparam_l = torch.cat([0.5*(param_l[j_idx[0]][...,None] + param_l[j_idx[1]][...,None]) for j_idx in comb_idx],dim=0)\n",
    "        return combparam_l,comb_idx        \n",
    "\n",
    "        \n",
    "        \n",
    "\n",
    "    def prepare_update_terms(self,xc,yc):\n",
    "        nb,ndata,ndim,nchannel=xc.size()\n",
    "        nb,ndata,nchannel=yc.size()\n",
    "\n",
    "        xc,yc_samples = self.sample_prior_independent(xc)\n",
    "        Kxx = self.evaluate_Kxz_indepedent(xc)\n",
    "        Kxx = Kxx.permute(0,3,1,2)\n",
    "        Kxx_reshaped= Kxx.reshape(-1,ndata,ndata)\n",
    "        L = torch.linalg.cholesky(Kxx_reshaped)\n",
    "        LT = L.permute(0,2,1)\n",
    "        delta_yc = yc-yc_samples\n",
    "\n",
    "        return L,LT,delta_yc\n",
    "\n",
    "\n",
    "\n",
    "    def compute_updateterms(self,xc,yc,xt):\n",
    "        nb,ndata,ndim,nchannel=xc.size()\n",
    "\n",
    "        xct_samples,prior_samples = self.sample_prior_shared(xc,xt)\n",
    "        L,LT,delta_yc = self.prepare_update_terms(xc,yc)\n",
    "\n",
    "        Kzx = self.evaluate_Kxz_indepedent(xct_samples.unsqueeze(-1).repeat(1,1,1,nchannel),xc)    \n",
    "        delta_yc_reshaped = (delta_yc.permute(0,2,1)).reshape(-1,ndata)\n",
    "        Linv_yc = torch.triangular_solve(delta_yc_reshaped.unsqueeze(dim=-1),L,upper=False)[0]\n",
    "        LTinv_Linv_yc = torch.triangular_solve(Linv_yc,LT,upper=True)[0]\n",
    "        LTinv_Linv_yc = LTinv_Linv_yc.reshape(nb,nchannel,ndata,-1).permute(0,2,3,1)\n",
    "        update_term = torch.einsum('bnml,bmkl->bnkl',Kzx,LTinv_Linv_yc).squeeze()\n",
    "\n",
    "        return update_term\n",
    "\n",
    "\n",
    "    def sample_posterior(self,xc,yc,xt,reorder=False):\n",
    "        xct_samples,prior_samples = self.sample_prior_shared(xc,xt)\n",
    "        update_term = self.compute_updateterms(xc,yc,xt)    \n",
    "        posterior_samples = prior_samples + update_term\n",
    "\n",
    "        if reorder:\n",
    "            nchannel=posterior_samples.size(-1)    \n",
    "            xct_samples,idx_reorder = xct_samples.sort(dim=1)\n",
    "            prior_samples= torch.gather(prior_samples,1,idx_reorder.repeat(1,1,nchannel))        \n",
    "            posterior_samples= torch.gather(posterior_samples,1,idx_reorder.repeat(1,1,nchannel))\n",
    "\n",
    "        xct_samples=xct_samples.unsqueeze(dim=-1).repeat(1,1,1,posterior_samples.size(-1))            \n",
    "        return xct_samples,posterior_samples,prior_samples\n",
    "\n",
    " \n",
    "    \n",
    "    def sample_w_b(self,nb):    \n",
    "        \"\"\"\n",
    "        self.w_mu : nparams\n",
    "        sample_w  : (nb,1,nbasis,1,nparams)\n",
    "        sample_b  : (nb,1,nbasis,1,nparams)        \n",
    "        \"\"\"        \n",
    "        eps1 = Variable(torch.randn(nb,self.num_fourierbasis,self.in_dims,self.num_channels),requires_grad=False)     #(nb,nfouierbasis,indims,nchannels)\n",
    "        eps2 = Variable(pi2*torch.rand(nb,self.num_fourierbasis,self.in_dims,self.num_channels),requires_grad=False)  #(nb,nfouierbasis,indims,nchannels)        \n",
    "\n",
    "        mu_ = self.mu.exp()                #(indims,nchannels)    \n",
    "        std_ = 1/(self.logstd.exp()+eps)    #(indims,nchannels)        \n",
    "                \n",
    "        sample_w = mu_[None,None,:,:] + std_[None,None,:,:]*eps1.to(mu_.device)    #(nb,nfouierbasis,indims,nchannels)         \n",
    "        sample_b = eps2.to(mu_.device)                              #(nb,nfouierbasis,indims,nchannels)\n",
    "        return sample_w,sample_b\n",
    "        \n",
    "        \n",
    "    def evaluate_Kxz_indepedent(self,xc,xt=None,zitter=1e-4):\n",
    "        \"\"\"\n",
    "        inputs:\n",
    "            xc : (nb,ncontext,ndim,nchannel)\n",
    "            xt : (nb,ntarget,ndim,nchannel)\n",
    "        outputs:\n",
    "            Psi_pred : (nb,ncontext,nchannel)      # assume y-value is 1-d      \n",
    "        \"\"\"\n",
    "        \n",
    "        zitter_flag = False\n",
    "        assert len(xc.size()) == 4         \n",
    "        if xt is None:\n",
    "            xt = xc\n",
    "            zitter_flag = True\n",
    "                \n",
    "        #check size        \n",
    "        nb,ndata,ndim,nchannels = xc.size()            \n",
    "        \n",
    "        #compute RBF\n",
    "        std = self.logstd.exp()[None,None,...]                \n",
    "        #print(std)\n",
    "        xc_=xc/std\n",
    "        xt_=xt/std                \n",
    "        \n",
    "        xc2 = (xc_**2).sum(dim=-2).unsqueeze(-2)\n",
    "        xt2 = (xt_**2).sum(dim=-2).unsqueeze(-2)        \n",
    "        xxT = xc2+xt2.permute(0,2,1,3)        \n",
    "        xxT += -2*torch.einsum('bnmc,bmkc->bnkc',xc_,xt_.permute(0,2,1,3))\n",
    "        Kxx = torch.exp(-0.5*xxT) \n",
    "        if zitter_flag :\n",
    "            #print('zitter added')\n",
    "            Kxx += zitter*torch.eye(ndata).to(xc.device)[None,...,None]\n",
    "        return Kxx\n",
    "\n",
    "    \n",
    "    def sample_prior_independent(self,xc):    \n",
    "        \"\"\"\n",
    "        inputs:\n",
    "            xc : (nb,ncontext,ndim,nchannel)\n",
    "        outputs:\n",
    "            Psi_pred : (nb,ncontext,nchannel)      # assume y-value is 1-d      \n",
    "        \"\"\"\n",
    "        \n",
    "        nb = xc.size(0)\n",
    "        wax_wb = (xc[:,None,...]*self.wa[:,:,None,...]).sum(dim=-2) + self.wb \n",
    "        Psi = torch.cos(wax_wb) \n",
    "        _,nbasis,_,nchannels = Psi.size()\n",
    "        random_w =torch.randn(nb,nbasis,1,nchannels ).to(xc.device)    #(nb,nfourierbasis,ngrid,numchannels)                \n",
    "        Psi_pred = np.sqrt(2/nb)*(Psi*random_w).sum(dim=1)   #(nb,ngrid,numchannels)               \n",
    "        return xc,Psi_pred\n",
    "        \n",
    "    #def forward(self,xct_samples):\n",
    "    def sample_prior_shared(self,xc,xt):        \n",
    "        \"\"\"\n",
    "        inputs:\n",
    "            xc : (nb,ncontext,ndim,nchannel)\n",
    "            xt : (nb,ntarget,ndim,nchannel)        \n",
    "        outputs:\n",
    "            xct_samples : (nb,nchannel*(ncontext+ntarget),ndim)\n",
    "            Psi_pred    : (nb,nchannel*(ncontext+ntarget),nchannel)      # assume y-value is 1-d      \n",
    "        \"\"\"\n",
    "        nb = xc.size(0)\n",
    "        #if xt in None:\n",
    "        xct_samples = samples_xct(xc,xt,numsamples=2,radius=.1)\n",
    "        wa,wb = self.sample_w_b(nb)\n",
    "        self.wa,self.wb = wa,wb\n",
    "        xct_costerm = (xct_samples[:,None,:,:,None]*wa[:,:,None,:,:]).sum(dim=-2) + wb\n",
    "        Psi = torch.cos(xct_costerm)                                                                  #(nb,nfourierbasis,ngrid,numchannels)   \n",
    "        random_w =torch.randn(nb,self.num_fourierbasis,1,self.num_channels ).to(xc.device)    #(nb,nfourierbasis,ngrid,numchannels)                \n",
    "        Psi_pred = np.sqrt(2/nb)*(Psi*random_w).sum(dim=1)   #(nb,ngrid,numchannels)               \n",
    "        return xct_samples,Psi_pred       \n",
    "        "
   ]
  },
  {
   "cell_type": "code",
   "execution_count": 21,
   "metadata": {},
   "outputs": [],
   "source": [
    "#xct_samples.size()\n",
    "#gpsampler.get_combparams()"
   ]
  },
  {
   "cell_type": "code",
   "execution_count": 22,
   "metadata": {},
   "outputs": [
    {
     "data": {
      "image/png": "[encoded data removed]",
      "text/plain": [
       "<Figure size 1440x432 with 3 Axes>"
      ]
     },
     "metadata": {
      "needs_background": "light"
     },
     "output_type": "display_data"
    }
   ],
   "source": [
    "gpsampler = Efficient_GPsampler(in_dims=1,out_dims=1,num_channels=3)\n",
    "xct_samples,posterior_samples,_ = gpsampler.sample_posterior(xc,yc,xt,reorder=True)\n",
    "\n",
    "nchannels = 3\n",
    "xlim_=[0,5]\n",
    "import matplotlib.pyplot as plt\n",
    "figsiz_=(20,2*3)\n",
    "plt.figure(figsize=figsiz_)\n",
    "color_list = ['r','b','g']\n",
    "for i in range(nchannels):\n",
    "    plt.subplot(3,1,i+1)\n",
    "    plt.plot(xc[0,:,0,i].cpu().data.numpy(),yc[0,:,i].cpu().data.numpy(),color_list[i]+'o-',markersize=15)\n",
    "    plt.plot(xct_samples[0,:,0,i].cpu().data.numpy(),posterior_samples[0,:,i].cpu().data.numpy(),'k'+'-s',alpha=0.8)    \n",
    "\n",
    "    \n",
    "    plt.xlim(xlim_)\n",
    "    plt.yticks([-5-1,5+1])    \n",
    "plt.show()\n"
   ]
  },
  {
   "cell_type": "code",
   "execution_count": 23,
   "metadata": {},
   "outputs": [],
   "source": [
    "\n",
    "import itertools as it\n",
    "import torch\n",
    "import torch.nn as nn\n",
    "from torch import Tensor\n",
    "from typing import Tuple\n",
    "\n",
    "\n",
    "def index_points(points, idx):\n",
    "    \"\"\"Get points［idx]\n",
    "    Args:\n",
    "        points: input point-cloud data, (B, N, D)\n",
    "        idx: sampled data index, (B, S)\n",
    "    Returns:\n",
    "        #new_points: indexed_points data, (B, S, D)\n",
    "        new_points: indexed_points data, (B, S, nbd, D)\n",
    "        \n",
    "    \"\"\"\n",
    "    device = points.device\n",
    "    B = points.size(0)\n",
    "    index_shape = list(idx.shape)  # [B, S]\n",
    "    index_shape[1:] = [1] * (len(index_shape) - 1)  # [B, 1]\n",
    "    repeat_shape = list(idx.shape)\n",
    "    repeat_shape[0] = 1\n",
    "    batch_indices = torch.arange(B, device=device, dtype=torch.long).reshape(index_shape).repeat(repeat_shape)\n",
    "    new_points = points[batch_indices, idx, ...]\n",
    "    \n",
    "    return new_points\n",
    "\n",
    "\n",
    "\n",
    "class Distance_multichannels(nn.Module):\n",
    "    def __init__(self,nchannels=3):\n",
    "        super(Distance_multichannels, self).__init__()                \n",
    "        self.nchannels = nchannels\n",
    "        self.comb_idx = list(it.product(range(self.nchannels),repeat=2))\n",
    "        \n",
    "                            \n",
    "    #def compute_distance(self,(x_s,ch_s),(x_a,ch_a),param_l):\n",
    "    def compute_distance(self,sample_pair,all_pair,param_l):\n",
    "        x_s,ch_s = sample_pair\n",
    "        x_a,ch_a = all_pair\n",
    "        \n",
    "        distance_all = self.compute_distance_allchannels(x_s,x_a,param_l)\n",
    "        all_idx = self.compute_jointindex(ch_s,ch_a)\n",
    "        selected_bool = self.compute_selectedbool(all_idx,self.comb_idx)\n",
    "        distance = torch.where(selected_bool.to(distance_all.device),distance_all,torch.zeros_like(distance_all).to(distance_all.device)).sum(dim=-1)\n",
    "        return distance \n",
    "    \n",
    "    \n",
    "    def compute_distance_allchannels(self,src,target,comb_paraml):\n",
    "        \"\"\"\n",
    "        input:\n",
    "            src: (nb,nseqlen1,ndim) \n",
    "            target: (nb,nseqlen2,ndim) \n",
    "            comb_paraml: ( #pair_channels),ndim) \n",
    "        output:\n",
    "            distance: (nb,nseqlen1,nseqlen1,#comb_paraml)         \n",
    "        \"\"\"\n",
    "        \n",
    "        total_channels = len(self.comb_idx)\n",
    "        B, N, _ = src.shape\n",
    "        _, M, _ = target.shape\n",
    "\n",
    "        comb_paraml_ = (comb_paraml.T)[None,None,...]\n",
    "        src = (src[:,:,None,:]).repeat(1,1,1,total_channels)        #(nb,m,d,comb_nch)\n",
    "        target = (target[:,None,:,:]).repeat(1,1,1,total_channels)  #(nb,n,d,comb_nch)\n",
    "        src /= comb_paraml_\n",
    "        target /= comb_paraml_\n",
    "\n",
    "        dist = -2*torch.einsum('bijk,bjlk->bilk',src,target)\n",
    "        dist += (src**2).sum(dim=-2,keepdim=True)\n",
    "        dist += (target**2).sum(dim=1,keepdim=True)\n",
    "        #return dist\n",
    "        return 1.-torch.exp(-dist)\n",
    "    \n",
    "\n",
    "    def compute_jointindex(self,ch_s,ch_a):\n",
    "        nb,nch_s = ch_s.size()\n",
    "        nb,nch_a = ch_a.size()\n",
    "        all_idx = np.array([list(it.product(i[0],i[1])) for i in list(zip(ch_s.numpy(),ch_a.numpy()))]).reshape(nb,nch_s,nch_a,-1)\n",
    "        return all_idx\n",
    "\n",
    "\n",
    "    def compute_selectedbool(self,all_idx,comb_idx):\n",
    "        selected_bool = []\n",
    "        for ij_idx in comb_idx:\n",
    "            selected_bool.append((np.sum(all_idx == ij_idx,axis=-1)==2)[...,np.newaxis])\n",
    "        selected_bool= np.concatenate(selected_bool,axis=-1)\n",
    "        selected_bool=torch.from_numpy(selected_bool)\n",
    "        return selected_bool\n",
    "\n",
    "\n",
    "\n",
    "class Nbdsampler_multichannels(nn.Module):\n",
    "    def __init__(self,nchannels=3, nnbdsamples=10):\n",
    "        super(Nbdsampler_multichannels, self).__init__()        \n",
    "        self.nchannels = nchannels\n",
    "        self.nnbdsamples = nnbdsamples\n",
    "        self.comb_idx = list(it.product(range(self.nchannels),repeat=2))\n",
    "        self.distance_cls = Distance_multichannels(nchannels)\n",
    "\n",
    "\n",
    "    #def get_nbdindex(self, dist:Tensor, mask:Tensor):\n",
    "    def get_nbdindex(self, dist:Tensor):        \n",
    "        #dist[~mask[:, None, :].expand(*dist.shape)] = 1e8\n",
    "        group_dist, group_idx = torch.topk(dist, self.nnbdsamples, dim=-1, largest=False, sorted=False)\n",
    "        return group_dist,group_idx\n",
    "\n",
    "        \n",
    "    #def sample_nbdpoints(self,inputs: Tuple[Tensor, Tensor, Tensor], query_coords: Tensor, distance_param: Tensor):                         \n",
    "    def sample_points(self,inputs: Tuple[Tensor, Tensor, Tensor, Tensor], query_coords: Tuple[Tensor,Tensor], distance_param: Tensor):                         \n",
    "        \n",
    "        x_a,ch_a, y_a, mask_a = inputs\n",
    "        x_s,ch_s = query_coords\n",
    "\n",
    "        #distance_selected = self.distance_cls.compute_distance((x_a,ch_a),(x_s,ch_s),distance_param)\n",
    "        distance_selected = self.distance_cls.compute_distance((x_s,ch_s),(x_a,ch_a),distance_param)        \n",
    "        neighbor_dist,neighbor_indices = self.get_nbdindex(distance_selected)\n",
    "\n",
    "        neighbor_coords = index_points(x_a, neighbor_indices)\n",
    "        neighbor_channels = index_points(ch_a, neighbor_indices)       \n",
    "        neighbor_values = index_points(y_a, neighbor_indices)\n",
    "        neighbor_mask = index_points(mask_a, neighbor_indices)\n",
    "        #return neighbor_coords,neighbor_channels, neighbor_values, neighbor_mask\n",
    "        return neighbor_dist,neighbor_coords,neighbor_channels, neighbor_values, neighbor_mask\n",
    "    \n",
    "        \n",
    "        "
   ]
  },
  {
   "cell_type": "code",
   "execution_count": null,
   "metadata": {},
   "outputs": [],
   "source": []
  },
  {
   "cell_type": "markdown",
   "metadata": {},
   "source": [
    "## param l"
   ]
  },
  {
   "cell_type": "code",
   "execution_count": 24,
   "metadata": {},
   "outputs": [],
   "source": [
    "# #def vector_repr_1d(x_c,y_c,tovec=True):\n",
    "# def origin_to_vector1d(xc,yc):    \n",
    "#     #assert len(xc.size())==3\n",
    "#     nb,ndata,ndim,nch = xc.size()\n",
    "#     out,out2 =[],[]\n",
    "#     for j in range(xc.size(dim=-1)):\n",
    "#         #tmp_ch = xc[...,j].unsqueeze(dim=-1)\n",
    "#         tmp_ch = xc[...,j]        \n",
    "#         tmp_ch = torch.cat([tmp_ch,(j*torch.ones_like(tmp_ch)).to(tmp_ch.device)],dim=-1)\n",
    "#         out.append(tmp_ch)\n",
    "#         tmp_ch2 = yc[:,:,j].unsqueeze(dim=-1)\n",
    "#         out2.append(tmp_ch2)\n",
    "#     out = torch.cat(out,dim=-2)\n",
    "#     out2 = torch.cat(out2,dim=-2)    \n",
    "#     assert out.size(-1) == 2\n",
    "\n",
    "#     out_pos,out_ch = out.split((out.size(-1)-1,1),dim=-1)\n",
    "#     out_val = out2 \n",
    "#     out_bool = torch.ones_like(out_pos).to(out_pos.device).bool()    \n",
    "#     return out_pos,out_ch.int()[...,0],out_val,out_bool\n",
    "\n",
    "    \n",
    "# def vector1d_to_origin(x_vec,x_ch,pmustd_v,nxdim=1,nydim=1):\n",
    "#     nb = x_vec.size(0)    \n",
    "#     outs_x,outs_y,outs_y2=[],[],[]\n",
    "#     for j in range(3):\n",
    "#         outs_x.append(x_vec[x_ch == j].reshape(nb,-1,nxdim))\n",
    "#         outs_y.append(pmustd_v[0][xc_ch == j].reshape(nb,-1,nydim))\n",
    "#         outs_y2.append(pmustd_v[1][xc_ch == j].reshape(nb,-1,nydim))\n",
    "\n",
    "#     outs_x=torch.cat(outs_x,dim=-1)\n",
    "#     outs_y=torch.cat(outs_y,dim=-1)\n",
    "#     outs_y2=torch.cat(outs_y2,dim=-1)    \n",
    "#     return outs_x.to(x_vec.device),outs_y.to(x_vec.device),outs_y2.to(x_vec.device)\n",
    "\n"
   ]
  },
  {
   "cell_type": "code",
   "execution_count": 25,
   "metadata": {},
   "outputs": [],
   "source": [
    "#xc_vec,xc_ch,yc_vec,_ = origin_to_vector1d(xc,yc)"
   ]
  },
  {
   "cell_type": "markdown",
   "metadata": {},
   "source": [
    "# plot nbd samples"
   ]
  },
  {
   "cell_type": "code",
   "execution_count": 26,
   "metadata": {},
   "outputs": [
    {
     "data": {
      "image/png": "[encoded data removed]",
      "text/plain": [
       "<Figure size 1080x432 with 3 Axes>"
      ]
     },
     "metadata": {
      "needs_background": "light"
     },
     "output_type": "display_data"
    }
   ],
   "source": [
    "import matplotlib.pyplot as plt\n",
    "xlim_=[x_lb-.1,x_ub+.1]\n",
    "figsiz_=(15,2*3)\n",
    "plt.figure(figsize=figsiz_)\n",
    "color_list = ['r','b','g']\n",
    "for i in range(nchannels):\n",
    "    plt.subplot(3,1,i+1)\n",
    "    plt.plot(xc[0,:,0,i].cpu().data.numpy(),yc[0,:,i].cpu().data.numpy(),color_list[i]+'o-',markersize=10)\n",
    "    plt.plot(xt[0,:,0,i].cpu().data.numpy(),yt[0,:,i].cpu().data.numpy(),color_list[i]+'s',markersize=5)    \n",
    "    plt.xlim(xlim_)\n",
    "    plt.yticks([-5-1,5+1])    \n",
    "plt.show()\n",
    "\n",
    "\n",
    "\n",
    "# figsiz_=(10,1.5*xcs_v[0].size(0))\n",
    "# plt.figure(figsize=figsiz_)\n",
    "# color_list = ['r','b','g']\n",
    "# for itx,(i,j,ii,jj) in enumerate(zip(xcs_v[0],ycs_v[0],nbd_xc[0],nbd_yc[0])):\n",
    "#     plt.subplot(xcs_v[0].size(0),1,itx+1)\n",
    "#     plt.scatter(i,j,s=100,color=color_list[xcs_ch[0][itx].item()],marker='s')\n",
    "#     #plt.plot(i,j,color_list[xcs_ch[0][itx].item()] + 'o-')\n",
    "    \n",
    "#     for iitx,(iii,jjj) in enumerate(zip(ii,jj)):\n",
    "#         plt.plot(iii,jjj,color_list[nbd_ch[0][itx][iitx].item()] + 'o-')\n",
    "        \n",
    "#     plt.plot(i,j,color_list[xcs_ch[0][itx].item()] + 'o-')        \n",
    "#     plt.xlim(xlim_)\n",
    "#     plt.yticks([-5-1,5+1])\n",
    "# plt.show()\n",
    "\n"
   ]
  },
  {
   "cell_type": "code",
   "execution_count": 27,
   "metadata": {},
   "outputs": [],
   "source": [
    "from typing import Tuple\n",
    "import torch\n",
    "import torch.nn as nn\n",
    "from torch import Tensor\n",
    "\n",
    "class Apply(nn.Module):\n",
    "    \"\"\"Support Module that apply input[dim] to the module\n",
    "    \"\"\"\n",
    "    def __init__(self, module, dim=1):\n",
    "        super().__init__()\n",
    "        self.module = module\n",
    "        self.dim = dim\n",
    "\n",
    "    def forward(self, x):\n",
    "        xs = list(x)\n",
    "        xs[self.dim] = self.module(xs[self.dim])\n",
    "        return xs\n",
    "\n",
    "    def extra_repr(self):\n",
    "        return \"dim={}\".format(self.dim)\n",
    "    \n",
    "    \n",
    "class Swish(nn.Module):\n",
    "    \"\"\"Swish Module\"\"\"\n",
    "    def __init__(self, inplace=False):\n",
    "        super().__init__()\n",
    "\n",
    "        self.inplace = inplace\n",
    "\n",
    "    def forward(self, x):\n",
    "        if self.inplace:\n",
    "            x.mul_(torch.sigmoid(x))\n",
    "            return x\n",
    "        else:\n",
    "            return x * torch.sigmoid(x)\n",
    "        \n",
    "        \n",
    "\n",
    "class LinearBlock(nn.Module):\n",
    "    \"\"\"Linear -> BN -> Activation (Swish / ReLU)\"\"\"\n",
    "    def __init__(\n",
    "            self,\n",
    "            in_features: int,\n",
    "            out_features: int,\n",
    "            activation: nn.Module = None,\n",
    "            use_bn: bool = False\n",
    "    ):\n",
    "        super().__init__()\n",
    "        self.in_features = in_features\n",
    "        self.out_features = out_features\n",
    "        self.linear = nn.Linear(in_features, out_features)\n",
    "        self.bn = MaskBatchNormNd(out_features) if use_bn else None\n",
    "        self.activation = Apply(Swish(inplace=True) if activation is None else nn.ReLU(inplace=True))\n",
    "\n",
    "    def forward(self, x: Tensor):\n",
    "        coords, values, mask = x\n",
    "        numel = values.shape[:-1]\n",
    "        values = self.linear(values.reshape(-1, self.in_features)).reshape(*numel, self.out_features)\n",
    "        h = (coords, values, mask)\n",
    "        if self.bn is not None:\n",
    "            h = self.bn(h)\n",
    "        h = self.activation(h)\n",
    "        return h\n",
    "    \n",
    "    \n",
    "    \n",
    "    \n",
    "class WeightNet(nn.Module):\n",
    "    \"\"\"Neural Network for Weight of Convolution\n",
    "    Args:\n",
    "        in_features (int): Number of input features\n",
    "        out_features (int): Number of output features\n",
    "        hidden_features (int): Number of hidden features\n",
    "        activation (nn.Module, optional): activation\n",
    "        use_bn (bool, optional): Whether the layer uses a batch normalization\n",
    "    \"\"\"\n",
    "    def __init__(\n",
    "            self,\n",
    "            in_features: int,\n",
    "            out_features: int,\n",
    "            hidden_features: int = 16,\n",
    "            activation: nn.Module = None,\n",
    "            use_bn: bool = False,\n",
    "    ):\n",
    "        super().__init__()\n",
    "        self.in_features = in_features\n",
    "        self.out_features = out_features\n",
    "        self.hidden_features = hidden_features\n",
    "        self.use_bn = use_bn\n",
    "        self.net = nn.Sequential(\n",
    "            LinearBlock(in_features, hidden_features, activation, use_bn),\n",
    "            LinearBlock(hidden_features, hidden_features, activation, use_bn),\n",
    "            LinearBlock(hidden_features, out_features, activation, use_bn),\n",
    "        )\n",
    "\n",
    "    def forward(self, x: Tensor):\n",
    "        return self.net(x)\n",
    "\n",
    "    def __repr__(self):\n",
    "        main_str = self._get_name() + '('\n",
    "\n",
    "        main_str += 'in_features={}, out_features={}, hidden_features={}, bn={}'.format(\n",
    "            self.in_features, self.out_features, self.hidden_features, self.use_bn\n",
    "        )\n",
    "        main_str += ')'\n",
    "        return main_str\n",
    "\n",
    "    \n",
    "    \n",
    "class PointConv(nn.Module):\n",
    "    \"\"\"Applies a point convolution over an input signal composed of several input points.\n",
    "    Args:\n",
    "        in_channels (int): Number of channels (features) in the input points\n",
    "        out_channels (int): Number of channels (features) produced by the convolution\n",
    "        mid_channels (int, optional): Number of channels (features) produced by the convolution\n",
    "        num_nbhd (int, optional): Number of neighborhood points\n",
    "        coords_dim (int, optional): Dimension of the input points\n",
    "        activation (nn.Module, optional): activation for weight net\n",
    "        use_bn (bool, optional): Whether the weight net uses a batch normalization\n",
    "    \"\"\"\n",
    "    def __init__(\n",
    "            self,\n",
    "            in_channels: int,\n",
    "            out_channels: int,\n",
    "            mid_channels: int = 16,\n",
    "            num_nbd: int = 32,\n",
    "            pos_dim: int = 3,\n",
    "            num_channels: int=3,\n",
    "            sampling_fraction: float = 1,\n",
    "            activation: nn.Module = None,\n",
    "            use_bn: bool = False,\n",
    "    ):\n",
    "        super(PointConv,self).__init__()\n",
    "\n",
    "        self.pos_dim = pos_dim\n",
    "        self.num_channels = num_channels\n",
    "\n",
    "        self.in_channels = in_channels\n",
    "        self.out_channels = out_channels\n",
    "        self.mid_channels = mid_channels\n",
    "        self.num_nbd = num_nbd        \n",
    "        \n",
    "        self.sampling_fraction = sampling_fraction                \n",
    "        self.nbd_sampler = Nbdsampler_multichannels(nchannels=self.num_channels, nnbdsamples=self.num_nbd)\n",
    "        self.weight_pointconv = WeightNet(in_features=1, out_features=self.in_channels, hidden_features = self.mid_channels, activation=activation, use_bn=use_bn) # \n",
    "        self.linear = nn.Linear(self.in_channels, self.out_channels)\n",
    "\n",
    "\n",
    "    def forward(self, inputs: Tuple[Tensor,Tensor, Tensor, Tensor,Tensor]):                \n",
    "        \"\"\"\n",
    "        Args:\n",
    "            inputs: [coords,coords_ch, values, mask], [(B, N, D), (B, N, C), (B, N)]\n",
    "        \"\"\"\n",
    "        xc_vec,xc_ch,yc_vec,xc_bool,comb_param = inputs\n",
    "        nbd_dist,nbd_xc,nbd_ch,nbd_yc,nbd_bool = self.nbd_sampler.sample_points((xc_vec,xc_ch,yc_vec,xc_bool),(xc_vec,xc_ch),comb_param) \n",
    "        conv_weights = self.weight_pointconv((None,nbd_dist.unsqueeze(dim=-1).detach().clone(),None))[1]\n",
    "        convolved_out = (conv_weights*nbd_yc).mean(dim=-2)\n",
    "        convolved_out = self.linear(convolved_out)\n",
    "                \n",
    "        if self.in_channels == self.out_channels and self.out_channels >=2 :\n",
    "            print('yc_vec.size(),convolved_out.size()')\n",
    "            print(yc_vec.size(),convolved_out.size())\n",
    "            print('res net structure')\n",
    "            convolved_out += yc_vec \n",
    "        return xc_vec,xc_ch,convolved_out,xc_bool,comb_param            \n",
    "\n",
    "\n",
    "    def extra_repr(self):\n",
    "        line = 'C_in={}, C_out={}, C_mid={}, '.format(self.in_channels, self.out_channels, self.mid_channels)\n",
    "        #line += 'coords_dim={}, nbhd={}, sampling_fraction={}, mean={}'.format(self.coords_dim, self.num_nbhd, self.sampling_fraction, self.mean)\n",
    "        return line\n",
    "\n",
    "\n"
   ]
  },
  {
   "cell_type": "code",
   "execution_count": 28,
   "metadata": {},
   "outputs": [],
   "source": [
    "import torch.nn as nn\n",
    "import torch.nn.functional as F\n",
    "import itertools as it\n",
    "\n",
    "\n",
    "def origin_to_vector1d(xc,yc):    \n",
    "    nb,ndata,ndim,nch = xc.size()\n",
    "    out,out2 =[],[]\n",
    "    for j in range(xc.size(dim=-1)):\n",
    "        #tmp_ch = xc[...,j].unsqueeze(dim=-1)\n",
    "        tmp_ch = xc[...,j]        \n",
    "        tmp_ch = torch.cat([tmp_ch,(j*torch.ones_like(tmp_ch)).to(tmp_ch.device)],dim=-1)\n",
    "        out.append(tmp_ch)\n",
    "        tmp_ch2 = yc[:,:,j].unsqueeze(dim=-1)\n",
    "        out2.append(tmp_ch2)\n",
    "    out = torch.cat(out,dim=-2)\n",
    "    out2 = torch.cat(out2,dim=-2)    \n",
    "    assert out.size(-1) == 2\n",
    "\n",
    "    out_pos,out_ch = out.split((out.size(-1)-1,1),dim=-1)\n",
    "    out_val = out2 \n",
    "    out_bool = torch.ones_like(out_pos).to(out_pos.device).bool()    \n",
    "    return out_pos,out_ch.int()[...,0],out_val,out_bool\n",
    "\n",
    "    \n",
    "def vector1d_to_origin(x_vec,x_ch,pmustd_vec,nxdim=1,nydim=1):\n",
    "    nb = x_vec.size(0)    \n",
    "    outs_x,outs_y,outs_y2=[],[],[]\n",
    "    \n",
    "    pmu,pstd = pmustd_vec\n",
    "    for j in range(3):\n",
    "        outs_x.append(x_vec[x_ch == j].reshape(nb,-1,nxdim,1))\n",
    "        outs_y.append(pmu[x_ch == j].reshape(nb,-1,nydim,1))\n",
    "        outs_y2.append(pstd[x_ch == j].reshape(nb,-1,nydim,1))\n",
    "\n",
    "    outs_x=torch.cat(outs_x,dim=-1)\n",
    "    outs_y=torch.cat(outs_y,dim=-1)\n",
    "    outs_y2=torch.cat(outs_y2,dim=-1)    \n",
    "    return outs_x.to(x_vec.device),outs_y.to(x_vec.device),outs_y2.to(x_vec.device)\n",
    "\n",
    "\n",
    "\n",
    "\n",
    "\n",
    "class ConvDeepset(nn.Module):\n",
    "    #def __init__(self,in_channels=1,out_channles=1):\n",
    "    def __init__(self,in_dims=1,out_dims=1,num_channels=3,scales=0.1):\n",
    "        \n",
    "        super(ConvDeepset,self).__init__()\n",
    "        self.in_dims = in_dims\n",
    "        self.out_dims = out_dims\n",
    "        #self.mu = nn.Parameter( torch.log(torch.zeros(in_dims,num_channels)) )              #nparams\n",
    "        #self.logstd = nn.Parameter( torch.log(scales*torch.ones(in_dims,num_channels)) )    #nparams        \n",
    "        \n",
    "        self.logstd = nn.Parameter( torch.log(scales*torch.ones(in_dims,num_channels)) )    #nparams        \n",
    "        \n",
    "        \n",
    "        \n",
    "    def compute_rbf(self,x1,x2=None):\n",
    "        if x2 is None:\n",
    "            x2 = x1            \n",
    "        # Compute shapes.            \n",
    "        \n",
    "        std_=self.logstd.exp()\n",
    "        nbatch,npoints,ndim,nchannel = x1.size()\n",
    "        \n",
    "        #compute rbf over multiple channels\n",
    "        dists = (x1**2).sum(dim=-2,keepdim=True) + (x2**2).sum(dim=-2,keepdim=True).permute(0,2,1,3)\n",
    "        dists += -2*torch.einsum('bnmj,bmkj->bnkj',x1,x2.permute(0,2,1,3))\n",
    "        wt = torch.exp(-0.5*dists)   \n",
    "        return wt\n",
    "\n",
    "    \n",
    "    def forward(self,xa,pmustd_xa,xt):\n",
    "        nb,ndata,ndim,nchannel = xt.size()\n",
    "        pmu_xa,pstd_xa = pmustd_xa\n",
    "        wt = self.compute_rbf(xa,xt)\n",
    "\n",
    "        print('pmu_xa.size(),pstd_xa.size(),wt.size()')        \n",
    "        print(pmu_xa.size(),pstd_xa.size(),wt.size())\n",
    "        \n",
    "        pmu_t = (pmu_xa*wt).sum(dim=1)\n",
    "        pstd_t = (pstd_xa*wt).sum(dim=1)\n",
    "        \n",
    "        return pmu_t,pstd_t\n",
    "\n",
    "    \n",
    "    \n",
    "    def extra_repr(self):\n",
    "        line = 'C_in={}, C_out={}, '.format(self.in_dims, self.out_dims)\n",
    "        #line += 'coords_dim={}, nbhd={}, sampling_fraction={}, mean={}'.format(self.coords_dim, self.num_nbhd, self.sampling_fraction, self.mean)\n",
    "        return line\n",
    "    \n",
    "            \n",
    "        \n",
    "        \n",
    "\n",
    "\n",
    "\n",
    "\n",
    "        \n",
    "class Pconvcnp(nn.Module):\n",
    "    def __init__(self,in_dims: int = 1,out_dims:int = 1, num_channels: int=3, num_nbd: int=5):\n",
    "        super(Pconvcnp,self).__init__()\n",
    "        \n",
    "        self.in_dims = in_dims\n",
    "        self.out_dims = out_dims       \n",
    "        self.num_channels = num_channels\n",
    "        self.num_nbd = num_nbd\n",
    "        \n",
    "        self.gpsampler = Efficient_GPsampler(in_dims=self.in_dims,out_dims=self.out_dims,num_channels=self.num_channels)\n",
    " \n",
    "        \n",
    "        pconv1 = PointConv(in_channels=1,out_channels=8,num_nbd=self.num_nbd, pos_dim= 1,num_channels=3)\n",
    "        pconv2 = PointConv(in_channels=8,out_channels=8,num_nbd=self.num_nbd, pos_dim= 1,num_channels=3)\n",
    "        pconv3 = PointConv(in_channels=8,out_channels=8,num_nbd=self.num_nbd, pos_dim= 1,num_channels=3)                \n",
    "        pconv4 = PointConv(in_channels=8,out_channels=2*self.out_dims,num_nbd=self.num_nbd, pos_dim= 1,num_channels=3)        \n",
    "        self.pconv_all = nn.Sequential(pconv1,\n",
    "                                       Apply(nn.ReLU(), dim=1),\n",
    "                                       pconv2,\n",
    "                                       Apply(nn.ReLU(), dim=1),\n",
    "                                       pconv3,\n",
    "                                       Apply(nn.ReLU(), dim=1),                                       \n",
    "                                       pconv4)\n",
    "        \n",
    "        self.pred_smooth = ConvDeepset(in_dims=self.in_dims,out_dims=self.out_dims)\n",
    "        \n",
    "        \n",
    "        \n",
    "    def forward(self,xc,yc,xt,yt=None):        \n",
    "\n",
    "        # samples the sample path by GP.\n",
    "        xa_samples,posterior_samples,_ = self.gpsampler.sample_posterior(xc,yc,xt)\n",
    "        xa_vec,xa_ch,ya_vec,xa_bool= origin_to_vector1d(xa_samples,posterior_samples)\n",
    "        \n",
    "        logstd = self.gpsampler.logstd.permute(1,0)   #(num_channels,in_dims)\n",
    "        combparam_l,comb_idx = get_combparams(logstd,num_channels=3)        \n",
    "        \n",
    "        \n",
    "        _,_,ya_vec_update,_,_ = self.pconv_all( (xa_vec,xa_ch,ya_vec,xa_bool, comb_paraml) )\n",
    "        ya_vec_update_mu,ya_vec_update_std = ya_vec_update.split((self.out_dims,self.out_dims),dim=-1)    \n",
    "        _,pmu_yct,pstd_yct = vector1d_to_origin(xa_vec,xa_ch,(ya_vec_update_mu,ya_vec_update_std))\n",
    "        \n",
    "        # interpolations by kernel smmothing \n",
    "        pmu_yt,pstd_yt = self.pred_smooth(xa_samples,(pmu_yct,pstd_yct),xt )             \n",
    "        #F.softplus(pstd_yt)\n",
    "        return pmu_yt,F.softplus(pstd_yt)\n",
    "        "
   ]
  },
  {
   "cell_type": "code",
   "execution_count": 29,
   "metadata": {},
   "outputs": [],
   "source": [
    "pconvcnp_3channels = Pconvcnp(in_dims=1,out_dims=1,num_channels=3)"
   ]
  },
  {
   "cell_type": "code",
   "execution_count": 30,
   "metadata": {},
   "outputs": [
    {
     "data": {
      "text/plain": [
       "(tensor([[0.0100],\n",
       "         [0.0100],\n",
       "         [0.0100],\n",
       "         [0.0100],\n",
       "         [0.0100],\n",
       "         [0.0100],\n",
       "         [0.0100],\n",
       "         [0.0100],\n",
       "         [0.0100]]),\n",
       " [(0, 0), (0, 1), (0, 2), (1, 0), (1, 1), (1, 2), (2, 0), (2, 1), (2, 2)])"
      ]
     },
     "execution_count": 30,
     "metadata": {},
     "output_type": "execute_result"
    }
   ],
   "source": [
    "comb_param = pconvcnp_3channels.gpsampler.get_combparams()"
   ]
  },
  {
   "cell_type": "code",
   "execution_count": 15,
   "metadata": {},
   "outputs": [
    {
     "ename": "NameError",
     "evalue": "name 'get_combparams' is not defined",
     "output_type": "error",
     "traceback": [
      "\u001b[0;31m---------------------------------------------------------------------------\u001b[0m",
      "\u001b[0;31mNameError\u001b[0m                                 Traceback (most recent call last)",
      "\u001b[0;32m<ipython-input-15-ccb03ae3e253>\u001b[0m in \u001b[0;36m<module>\u001b[0;34m()\u001b[0m\n\u001b[0;32m----> 1\u001b[0;31m \u001b[0mpmu_xt\u001b[0m\u001b[0;34m,\u001b[0m\u001b[0mpstd_xt\u001b[0m \u001b[0;34m=\u001b[0m \u001b[0mpconvcnp_3channels\u001b[0m\u001b[0;34m(\u001b[0m\u001b[0mxc\u001b[0m\u001b[0;34m,\u001b[0m\u001b[0myc\u001b[0m\u001b[0;34m,\u001b[0m\u001b[0mxt\u001b[0m\u001b[0;34m,\u001b[0m\u001b[0myt\u001b[0m\u001b[0;34m)\u001b[0m\u001b[0;34m\u001b[0m\u001b[0;34m\u001b[0m\u001b[0m\n\u001b[0m",
      "\u001b[0;32m/home/yohan/Myenv/lib/python3.6/site-packages/torch/nn/modules/module.py\u001b[0m in \u001b[0;36m_call_impl\u001b[0;34m(self, *input, **kwargs)\u001b[0m\n\u001b[1;32m   1100\u001b[0m         if not (self._backward_hooks or self._forward_hooks or self._forward_pre_hooks or _global_backward_hooks\n\u001b[1;32m   1101\u001b[0m                 or _global_forward_hooks or _global_forward_pre_hooks):\n\u001b[0;32m-> 1102\u001b[0;31m             \u001b[0;32mreturn\u001b[0m \u001b[0mforward_call\u001b[0m\u001b[0;34m(\u001b[0m\u001b[0;34m*\u001b[0m\u001b[0minput\u001b[0m\u001b[0;34m,\u001b[0m \u001b[0;34m**\u001b[0m\u001b[0mkwargs\u001b[0m\u001b[0;34m)\u001b[0m\u001b[0;34m\u001b[0m\u001b[0;34m\u001b[0m\u001b[0m\n\u001b[0m\u001b[1;32m   1103\u001b[0m         \u001b[0;31m# Do not call functions when jit is used\u001b[0m\u001b[0;34m\u001b[0m\u001b[0;34m\u001b[0m\u001b[0;34m\u001b[0m\u001b[0m\n\u001b[1;32m   1104\u001b[0m         \u001b[0mfull_backward_hooks\u001b[0m\u001b[0;34m,\u001b[0m \u001b[0mnon_full_backward_hooks\u001b[0m \u001b[0;34m=\u001b[0m \u001b[0;34m[\u001b[0m\u001b[0;34m]\u001b[0m\u001b[0;34m,\u001b[0m \u001b[0;34m[\u001b[0m\u001b[0;34m]\u001b[0m\u001b[0;34m\u001b[0m\u001b[0;34m\u001b[0m\u001b[0m\n",
      "\u001b[0;32m<ipython-input-13-9ef49dc01c7e>\u001b[0m in \u001b[0;36mforward\u001b[0;34m(self, xc, yc, xt, yt)\u001b[0m\n\u001b[1;32m    135\u001b[0m \u001b[0;34m\u001b[0m\u001b[0m\n\u001b[1;32m    136\u001b[0m         \u001b[0mlogstd\u001b[0m \u001b[0;34m=\u001b[0m \u001b[0mself\u001b[0m\u001b[0;34m.\u001b[0m\u001b[0mgpsampler\u001b[0m\u001b[0;34m.\u001b[0m\u001b[0mlogstd\u001b[0m\u001b[0;34m.\u001b[0m\u001b[0mpermute\u001b[0m\u001b[0;34m(\u001b[0m\u001b[0;36m1\u001b[0m\u001b[0;34m,\u001b[0m\u001b[0;36m0\u001b[0m\u001b[0;34m)\u001b[0m   \u001b[0;31m#(num_channels,in_dims)\u001b[0m\u001b[0;34m\u001b[0m\u001b[0;34m\u001b[0m\u001b[0m\n\u001b[0;32m--> 137\u001b[0;31m         \u001b[0mcombparam_l\u001b[0m\u001b[0;34m,\u001b[0m\u001b[0mcomb_idx\u001b[0m \u001b[0;34m=\u001b[0m \u001b[0mget_combparams\u001b[0m\u001b[0;34m(\u001b[0m\u001b[0mlogstd\u001b[0m\u001b[0;34m,\u001b[0m\u001b[0mnum_channels\u001b[0m\u001b[0;34m=\u001b[0m\u001b[0;36m3\u001b[0m\u001b[0;34m)\u001b[0m\u001b[0;34m\u001b[0m\u001b[0;34m\u001b[0m\u001b[0m\n\u001b[0m\u001b[1;32m    138\u001b[0m \u001b[0;34m\u001b[0m\u001b[0m\n\u001b[1;32m    139\u001b[0m \u001b[0;34m\u001b[0m\u001b[0m\n",
      "\u001b[0;31mNameError\u001b[0m: name 'get_combparams' is not defined"
     ]
    }
   ],
   "source": [
    "pmu_xt,pstd_xt = pconvcnp_3channels(xc,yc,xt,yt)"
   ]
  },
  {
   "cell_type": "code",
   "execution_count": 84,
   "metadata": {},
   "outputs": [
    {
     "data": {
      "image/png": "[encoded data removed]",
      "text/plain": [
       "<Figure size 720x432 with 3 Axes>"
      ]
     },
     "metadata": {
      "needs_background": "light"
     },
     "output_type": "display_data"
    },
    {
     "data": {
      "image/png": "[encoded data removed]",
      "text/plain": [
       "<Figure size 720x432 with 3 Axes>"
      ]
     },
     "metadata": {
      "needs_background": "light"
     },
     "output_type": "display_data"
    }
   ],
   "source": [
    "figsiz_=(10,6)\n",
    "plt.figure(figsize=figsiz_)\n",
    "color_list = ['r','b','g']\n",
    "for i in range(nchannels):\n",
    "    plt.subplot(3,1,i+1)\n",
    "    #plt.plot(xc[0,:,0,i].cpu().data.numpy(),yc[0,:,i].cpu().data.numpy(),color_list[i]+'o',markersize=10)\n",
    "    plt.plot(xt[0,:,0,i].cpu().data.numpy(),yt[0,:,i].cpu().data.numpy(),color_list[i]+'o',markersize=10)    \n",
    "    plt.xlim(xlim_)\n",
    "    plt.yticks([-5-1,5+1])    \n",
    "plt.show()\n",
    "\n",
    "\n",
    "plt.figure(figsize=figsiz_)\n",
    "color_list = ['r','b','g']\n",
    "for i in range(nchannels):\n",
    "    plt.subplot(3,1,i+1)\n",
    "    plt.plot(xt[0,:,0,i].cpu().data.numpy(),yt[0,:,i].cpu().data.numpy(),color_list[i]+'o',markersize=10)        \n",
    "    plt.plot(xt[0,:,0,i].cpu().data.numpy(),pmu_xt[0,:,i].cpu().data.numpy(),color_list[i]+'s-')\n",
    "    plt.xlim(xlim_)\n",
    "    plt.yticks([-5-1,5+1])    \n",
    "plt.show()\n",
    "\n",
    "\n",
    "# plt.figure(figsize=figsiz_)\n",
    "# color_list = ['r','b','g']\n",
    "# for i in range(nchannels):\n",
    "#     plt.subplot(3,1,i+1)\n",
    "#     plt.plot(xt[0,:,i].cpu().data.numpy(),pmu_yt[0,:,i].cpu().data.numpy(),color_list[i]+'o-')\n",
    "#     plt.xlim(xlim_)\n",
    "#     plt.yticks([-5-1,5+1])    \n",
    "# plt.show()\n"
   ]
  },
  {
   "cell_type": "code",
   "execution_count": 93,
   "metadata": {},
   "outputs": [
    {
     "data": {
      "text/plain": [
       "torch.Size([3, 1])"
      ]
     },
     "execution_count": 93,
     "metadata": {},
     "output_type": "execute_result"
    }
   ],
   "source": [
    "logstd.size()"
   ]
  },
  {
   "cell_type": "code",
   "execution_count": 92,
   "metadata": {},
   "outputs": [],
   "source": [
    "logstd = gpsampler.logstd.permute(1,0)   #(num_channels,in_dims)"
   ]
  },
  {
   "cell_type": "code",
   "execution_count": 99,
   "metadata": {},
   "outputs": [],
   "source": [
    "import itertools as it\n",
    "\n",
    "\n",
    "def get_combparams(param_logstd,num_channels=3):\n",
    "    param_l = param_logstd.exp().detach().clone()\n",
    "    comb_idx = list(it.product(range(num_channels),repeat=2))\n",
    "    combparam_l = torch.cat([0.5*(param_l[j_idx[0]][...,None] + param_l[j_idx[1]][...,None]) for j_idx in comb_idx],dim=0)\n",
    "    return combparam_l,comb_idx\n"
   ]
  },
  {
   "cell_type": "code",
   "execution_count": 100,
   "metadata": {},
   "outputs": [],
   "source": [
    "logstd = gpsampler.logstd.permute(1,0)   #(num_channels,in_dims)\n",
    "combparam_l,comb_idx = get_combparams(logstd,num_channels=3)"
   ]
  },
  {
   "cell_type": "code",
   "execution_count": 102,
   "metadata": {},
   "outputs": [
    {
     "data": {
      "text/plain": [
       "tensor([[0.0100],\n",
       "        [0.0100],\n",
       "        [0.0100],\n",
       "        [0.0100],\n",
       "        [0.0100],\n",
       "        [0.0100],\n",
       "        [0.0100],\n",
       "        [0.0100],\n",
       "        [0.0100]])"
      ]
     },
     "execution_count": 102,
     "metadata": {},
     "output_type": "execute_result"
    }
   ],
   "source": [
    "combparam_l"
   ]
  },
  {
   "cell_type": "code",
   "execution_count": null,
   "metadata": {},
   "outputs": [],
   "source": []
  },
  {
   "cell_type": "code",
   "execution_count": null,
   "metadata": {},
   "outputs": [],
   "source": []
  },
  {
   "cell_type": "code",
   "execution_count": null,
   "metadata": {},
   "outputs": [],
   "source": []
  },
  {
   "cell_type": "code",
   "execution_count": null,
   "metadata": {},
   "outputs": [],
   "source": []
  },
  {
   "cell_type": "code",
   "execution_count": 52,
   "metadata": {},
   "outputs": [],
   "source": [
    "gpsampler = Efficient_GPsampler(in_dims=1,out_dims=1,num_channels=3)\n",
    "#xct_samples,posterior_samples,_ = gpsampler.sample_posterior(xc,yc,xt,reorder=True)\n",
    "xa_samples,posterior_samples,_ = gpsampler.sample_posterior(xc,yc,xt)\n"
   ]
  },
  {
   "cell_type": "code",
   "execution_count": 46,
   "metadata": {},
   "outputs": [
    {
     "data": {
      "text/plain": [
       "torch.Size([3, 195, 1, 3])"
      ]
     },
     "execution_count": 46,
     "metadata": {},
     "output_type": "execute_result"
    }
   ],
   "source": [
    "xct_samples.size()"
   ]
  },
  {
   "cell_type": "code",
   "execution_count": 48,
   "metadata": {},
   "outputs": [],
   "source": [
    "xa_vec,xa_ch,ya_vec,xa_bool=origin_to_vector1d(xa_samples,posterior_samples)\n"
   ]
  },
  {
   "cell_type": "code",
   "execution_count": 50,
   "metadata": {},
   "outputs": [
    {
     "data": {
      "text/plain": [
       "(torch.Size([3, 585, 1]), torch.Size([3, 585, 1]))"
      ]
     },
     "execution_count": 50,
     "metadata": {},
     "output_type": "execute_result"
    }
   ],
   "source": [
    "xa_vec.size(),ya_vec.size()"
   ]
  },
  {
   "cell_type": "code",
   "execution_count": 35,
   "metadata": {},
   "outputs": [],
   "source": [
    "import itertools as it\n",
    "\n",
    "nchannels=3\n",
    "log_param_l = 0.1*torch.rand(nchannels,1)\n",
    "comb_idx = list(it.product(range(nchannels),repeat=2))\n",
    "comb_paraml = torch.cat([0.5*(log_param_l[j_idx[0]][...,None].exp()+log_param_l[j_idx[1]][...,None].exp()) for j_idx in comb_idx],dim=0)\n",
    "\n",
    "\n",
    "p_convcnp = Pconvcnp(in_dims=1,out_dims=1,num_channels=3)"
   ]
  },
  {
   "cell_type": "code",
   "execution_count": 36,
   "metadata": {},
   "outputs": [
    {
     "name": "stdout",
     "output_type": "stream",
     "text": [
      "yc_vec.size(),convolved_out.size()\n",
      "torch.Size([3, 585, 8]) torch.Size([3, 585, 8])\n",
      "res net structure\n",
      "yc_vec.size(),convolved_out.size()\n",
      "torch.Size([3, 585, 8]) torch.Size([3, 585, 8])\n",
      "res net structure\n"
     ]
    }
   ],
   "source": [
    "_,_,ya_update,_,_ = p_convcnp.pconv_all((xa_vec,xa_ch,ya_vec,xa_bool,comb_paraml))\n",
    "ya_update_mu,ya_update_std = ya_update.split((1,1),dim=-1)    \n",
    "        \n"
   ]
  },
  {
   "cell_type": "code",
   "execution_count": 37,
   "metadata": {},
   "outputs": [
    {
     "data": {
      "text/plain": [
       "(torch.Size([3, 585, 1]), torch.Size([3, 585, 1]))"
      ]
     },
     "execution_count": 37,
     "metadata": {},
     "output_type": "execute_result"
    }
   ],
   "source": [
    "ya_update_mu.size(),ya_update_std.size()"
   ]
  },
  {
   "cell_type": "code",
   "execution_count": 38,
   "metadata": {},
   "outputs": [
    {
     "name": "stdout",
     "output_type": "stream",
     "text": [
      "pmu_xa.size(),pstd_xa.size(),wt.size()\n",
      "torch.Size([3, 195, 1, 3]) torch.Size([3, 195, 1, 3]) torch.Size([3, 195, 40, 3])\n"
     ]
    }
   ],
   "source": [
    "xa,pmu_ya,pstd_ya = vector1d_to_origin(xa_vec,xa_ch,(ya_update_mu,ya_update_std))\n",
    "pmu_xt,pstd_xt = p_convcnp.pred_smooth(xa,(pmu_ya,pstd_ya),xt )        \n"
   ]
  },
  {
   "cell_type": "code",
   "execution_count": 39,
   "metadata": {},
   "outputs": [],
   "source": [
    "#pstd_xt"
   ]
  },
  {
   "cell_type": "code",
   "execution_count": 62,
   "metadata": {},
   "outputs": [
    {
     "data": {
      "text/plain": [
       "torch.Size([3, 25, 1, 3])"
      ]
     },
     "execution_count": 62,
     "metadata": {},
     "output_type": "execute_result"
    }
   ],
   "source": [
    "xc.size()"
   ]
  },
  {
   "cell_type": "code",
   "execution_count": 41,
   "metadata": {},
   "outputs": [
    {
     "data": {
      "text/plain": [
       "torch.Size([3, 25, 3])"
      ]
     },
     "execution_count": 41,
     "metadata": {},
     "output_type": "execute_result"
    }
   ],
   "source": [
    "#xc.size()\n",
    "yc.size()"
   ]
  },
  {
   "cell_type": "code",
   "execution_count": 63,
   "metadata": {},
   "outputs": [
    {
     "data": {
      "image/png": "[encoded data removed]",
      "text/plain": [
       "<Figure size 720x432 with 3 Axes>"
      ]
     },
     "metadata": {
      "needs_background": "light"
     },
     "output_type": "display_data"
    },
    {
     "data": {
      "image/png": "[encoded data removed]",
      "text/plain": [
       "<Figure size 720x432 with 3 Axes>"
      ]
     },
     "metadata": {
      "needs_background": "light"
     },
     "output_type": "display_data"
    }
   ],
   "source": [
    "figsiz_=(10,6)\n",
    "plt.figure(figsize=figsiz_)\n",
    "color_list = ['r','b','g']\n",
    "for i in range(nchannels):\n",
    "    plt.subplot(3,1,i+1)\n",
    "    #plt.plot(xc[0,:,0,i].cpu().data.numpy(),yc[0,:,i].cpu().data.numpy(),color_list[i]+'o',markersize=10)\n",
    "    plt.plot(xt[0,:,0,i].cpu().data.numpy(),yt[0,:,i].cpu().data.numpy(),color_list[i]+'o',markersize=10)    \n",
    "    plt.xlim(xlim_)\n",
    "    plt.yticks([-5-1,5+1])    \n",
    "plt.show()\n",
    "\n",
    "\n",
    "plt.figure(figsize=figsiz_)\n",
    "color_list = ['r','b','g']\n",
    "for i in range(nchannels):\n",
    "    plt.subplot(3,1,i+1)\n",
    "    plt.plot(xt[0,:,0,i].cpu().data.numpy(),yt[0,:,i].cpu().data.numpy(),color_list[i]+'o',markersize=10)        \n",
    "    plt.plot(xt[0,:,0,i].cpu().data.numpy(),pmu_xt[0,:,i].cpu().data.numpy(),color_list[i]+'s-')\n",
    "    plt.xlim(xlim_)\n",
    "    plt.yticks([-5-1,5+1])    \n",
    "plt.show()\n",
    "\n",
    "\n",
    "# plt.figure(figsize=figsiz_)\n",
    "# color_list = ['r','b','g']\n",
    "# for i in range(nchannels):\n",
    "#     plt.subplot(3,1,i+1)\n",
    "#     plt.plot(xt[0,:,i].cpu().data.numpy(),pmu_yt[0,:,i].cpu().data.numpy(),color_list[i]+'o-')\n",
    "#     plt.xlim(xlim_)\n",
    "#     plt.yticks([-5-1,5+1])    \n",
    "# plt.show()\n"
   ]
  },
  {
   "cell_type": "code",
   "execution_count": null,
   "metadata": {},
   "outputs": [],
   "source": []
  },
  {
   "cell_type": "code",
   "execution_count": null,
   "metadata": {},
   "outputs": [],
   "source": []
  },
  {
   "cell_type": "code",
   "execution_count": null,
   "metadata": {},
   "outputs": [],
   "source": []
  },
  {
   "cell_type": "code",
   "execution_count": null,
   "metadata": {},
   "outputs": [],
   "source": []
  },
  {
   "cell_type": "code",
   "execution_count": null,
   "metadata": {},
   "outputs": [],
   "source": []
  },
  {
   "cell_type": "code",
   "execution_count": null,
   "metadata": {},
   "outputs": [],
   "source": []
  }
 ],
 "metadata": {
  "kernelspec": {
   "display_name": "Python 3",
   "language": "python",
   "name": "python3"
  },
  "language_info": {
   "codemirror_mode": {
    "name": "ipython",
    "version": 3
   },
   "file_extension": ".py",
   "mimetype": "text/x-python",
   "name": "python",
   "nbconvert_exporter": "python",
   "pygments_lexer": "ipython3",
   "version": "3.6.8"
  }
 },
 "nbformat": 4,
 "nbformat_minor": 4
}
